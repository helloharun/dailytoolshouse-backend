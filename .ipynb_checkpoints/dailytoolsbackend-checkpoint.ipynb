{
 "cells": [
  {
   "cell_type": "code",
   "execution_count": 14,
   "id": "4b03b196-8d24-4b2c-ad84-aacc86a3e614",
   "metadata": {},
   "outputs": [],
   "source": [
    "import requests\n",
    "import json\n",
    "from bs4 import BeautifulSoup"
   ]
  },
  {
   "cell_type": "code",
   "execution_count": 5,
   "id": "eae5513d-e091-4074-b31c-666a58a31ea0",
   "metadata": {},
   "outputs": [],
   "source": [
    "url = \" http://localhost:8888/lab?token=5560f3164aed6d14635903540dceb8ce8d6acd8bfae305e8\""
   ]
  },
  {
   "cell_type": "code",
   "execution_count": 7,
   "id": "b4e3b63b-ea2e-4409-bd1d-188f7673313f",
   "metadata": {},
   "outputs": [],
   "source": [
    "payload = {\n",
    "\"username\": \"rai.harun64@gmail.com\",\n",
    "\"password\": \"hUJ{V=I{zuq2\"\n",
    "}"
   ]
  },
  {
   "cell_type": "code",
   "execution_count": 12,
   "id": "c39c3a74-89db-4dd5-b73a-f4e3943f0145",
   "metadata": {},
   "outputs": [],
   "source": [
    "res = requests.post(url, data=payload)"
   ]
  },
  {
   "cell_type": "code",
   "execution_count": 13,
   "id": "adc19eb4-f487-477f-bf81-fdb9ea86079e",
   "metadata": {},
   "outputs": [
    {
     "data": {
      "text/plain": [
       "b'<!DOCTYPE HTML>\\n<html>\\n\\n<head>\\n\\n    <meta charset=\"utf-8\">\\n\\n    <title>Jupyter Server</title>\\n    <link id=\"favicon\" rel=\"shortcut icon\" type=\"image/x-icon\" href=\"/static/lab/favicon.ico\">\\n    \\n    <link rel=\"stylesheet\" href=\"/static/lab/style/bootstrap.min.css\" />\\n    <link rel=\"stylesheet\" href=\"/static/lab/style/bootstrap-theme.min.css\" />\\n    <link rel=\"stylesheet\" href=\"/static/lab/style/index.css\" />\\n    <meta http-equiv=\"X-UA-Compatible\" content=\"IE=edge\" />\\n    <meta name=\"viewport\" content=\"width=device-width, initial-scale=1.0\">\\n\\n    \\n\\n    \\n<style type=\"text/css\">\\n    /* disable initial hide */\\n    div#header,\\n    div#site {\\n        display: block;\\n    }\\n</style>\\n\\n\\n    \\n    \\n\\n</head>\\n\\n<body class=\"\"  \\n  data-jupyter-api-token=\"5560f3164aed6d14635903540dceb8ce8d6acd8bfae305e8\"   dir=\"ltr\">\\n\\n  <noscript>\\n    <div id=\\'noscript\\'>\\n      Jupyter Server requires JavaScript.<br>\\n      Please enable it to proceed. \\n    </div>\\n  </noscript>\\n\\n  <div id=\"header\" role=\"navigation\" aria-label=\"Top Menu\">\\n    <div id=\"header-container\" class=\"container\">\\n      <div id=\"jupyter_server\" class=\"nav navbar-brand\"><a href=\"/lab?token=5560f3164aed6d14635903540dceb8ce8d6acd8bfae305e8\" title=\\'dashboard\\'>\\n          <img src=\\'/static/lab/logo/logo.png\\' alt=\\'Jupyter Server\\' />\\n        </a></div>\\n\\n      \\n      \\n\\n      \\n      \\n\\n    </div>\\n    <div class=\"header-bar\"></div>\\n\\n    \\n    \\n  </div>\\n\\n  <div id=\"site\">\\n    \\n\\n<div class=\"error\">\\n    \\n    <h1>405 : Method Not Allowed</h1>\\n    \\n    \\n    \\n    \\n</div>\\n\\n\\n  </div>\\n\\n  \\n  \\n\\n  \\n\\n\\n  <script type=\\'text/javascript\\'>\\n    function _remove_token_from_url() {\\n      if (window.location.search.length <= 1) {\\n        return;\\n      }\\n      var search_parameters = window.location.search.slice(1).split(\\'&\\');\\n      for (var i = 0; i < search_parameters.length; i++) {\\n        if (search_parameters[i].split(\\'=\\')[0] === \\'token\\') {\\n          // remote token from search parameters\\n          search_parameters.splice(i, 1);\\n          var new_search = \\'\\';\\n          if (search_parameters.length) {\\n            new_search = \\'?\\' + search_parameters.join(\\'&\\');\\n          }\\n          var new_url = window.location.origin +\\n            window.location.pathname +\\n            new_search +\\n            window.location.hash;\\n          window.history.replaceState({}, \"\", new_url);\\n          return;\\n        }\\n      }\\n    }\\n    _remove_token_from_url();\\n  </script>\\n</body>\\n\\n</html>'"
      ]
     },
     "execution_count": 13,
     "metadata": {},
     "output_type": "execute_result"
    }
   ],
   "source": [
    "res.content"
   ]
  },
  {
   "cell_type": "code",
   "execution_count": 16,
   "id": "da06f356-606b-4a84-989a-2b3607173851",
   "metadata": {},
   "outputs": [],
   "source": [
    "soup = BeautifulSoup(res.content, 'html.parser')"
   ]
  },
  {
   "cell_type": "code",
   "execution_count": 17,
   "id": "bcee40c5-7c05-4155-8566-e7c0c41dd979",
   "metadata": {},
   "outputs": [
    {
     "data": {
      "text/plain": [
       "<!DOCTYPE HTML>\n",
       "\n",
       "<html>\n",
       "<head>\n",
       "<meta charset=\"utf-8\"/>\n",
       "<title>Jupyter Server</title>\n",
       "<link href=\"/static/lab/favicon.ico\" id=\"favicon\" rel=\"shortcut icon\" type=\"image/x-icon\"/>\n",
       "<link href=\"/static/lab/style/bootstrap.min.css\" rel=\"stylesheet\">\n",
       "<link href=\"/static/lab/style/bootstrap-theme.min.css\" rel=\"stylesheet\"/>\n",
       "<link href=\"/static/lab/style/index.css\" rel=\"stylesheet\"/>\n",
       "<meta content=\"IE=edge\" http-equiv=\"X-UA-Compatible\">\n",
       "<meta content=\"width=device-width, initial-scale=1.0\" name=\"viewport\"/>\n",
       "<style type=\"text/css\">\n",
       "    /* disable initial hide */\n",
       "    div#header,\n",
       "    div#site {\n",
       "        display: block;\n",
       "    }\n",
       "</style>\n",
       "</meta></link></head>\n",
       "<body class=\"\" data-jupyter-api-token=\"5560f3164aed6d14635903540dceb8ce8d6acd8bfae305e8\" dir=\"ltr\">\n",
       "<noscript>\n",
       "<div id=\"noscript\">\n",
       "      Jupyter Server requires JavaScript.<br/>\n",
       "      Please enable it to proceed. \n",
       "    </div>\n",
       "</noscript>\n",
       "<div aria-label=\"Top Menu\" id=\"header\" role=\"navigation\">\n",
       "<div class=\"container\" id=\"header-container\">\n",
       "<div class=\"nav navbar-brand\" id=\"jupyter_server\"><a href=\"/lab?token=5560f3164aed6d14635903540dceb8ce8d6acd8bfae305e8\" title=\"dashboard\">\n",
       "<img alt=\"Jupyter Server\" src=\"/static/lab/logo/logo.png\"/>\n",
       "</a></div>\n",
       "</div>\n",
       "<div class=\"header-bar\"></div>\n",
       "</div>\n",
       "<div id=\"site\">\n",
       "<div class=\"error\">\n",
       "<h1>405 : Method Not Allowed</h1>\n",
       "</div>\n",
       "</div>\n",
       "<script type=\"text/javascript\">\n",
       "    function _remove_token_from_url() {\n",
       "      if (window.location.search.length <= 1) {\n",
       "        return;\n",
       "      }\n",
       "      var search_parameters = window.location.search.slice(1).split('&');\n",
       "      for (var i = 0; i < search_parameters.length; i++) {\n",
       "        if (search_parameters[i].split('=')[0] === 'token') {\n",
       "          // remote token from search parameters\n",
       "          search_parameters.splice(i, 1);\n",
       "          var new_search = '';\n",
       "          if (search_parameters.length) {\n",
       "            new_search = '?' + search_parameters.join('&');\n",
       "          }\n",
       "          var new_url = window.location.origin +\n",
       "            window.location.pathname +\n",
       "            new_search +\n",
       "            window.location.hash;\n",
       "          window.history.replaceState({}, \"\", new_url);\n",
       "          return;\n",
       "        }\n",
       "      }\n",
       "    }\n",
       "    _remove_token_from_url();\n",
       "  </script>\n",
       "</body>\n",
       "</html>"
      ]
     },
     "execution_count": 17,
     "metadata": {},
     "output_type": "execute_result"
    }
   ],
   "source": [
    "soup"
   ]
  },
  {
   "cell_type": "code",
   "execution_count": 18,
   "id": "2035cdb7-bdba-4a3d-9c80-6778f3a25ed4",
   "metadata": {},
   "outputs": [
    {
     "data": {
      "text/plain": [
       "'<!DOCTYPE HTML>\\n<html>\\n <head>\\n  <meta charset=\"utf-8\"/>\\n  <title>\\n   Jupyter Server\\n  </title>\\n  <link href=\"/static/lab/favicon.ico\" id=\"favicon\" rel=\"shortcut icon\" type=\"image/x-icon\"/>\\n  <link href=\"/static/lab/style/bootstrap.min.css\" rel=\"stylesheet\">\\n   <link href=\"/static/lab/style/bootstrap-theme.min.css\" rel=\"stylesheet\"/>\\n   <link href=\"/static/lab/style/index.css\" rel=\"stylesheet\"/>\\n   <meta content=\"IE=edge\" http-equiv=\"X-UA-Compatible\">\\n    <meta content=\"width=device-width, initial-scale=1.0\" name=\"viewport\"/>\\n    <style type=\"text/css\">\\n     /* disable initial hide */\\n    div#header,\\n    div#site {\\n        display: block;\\n    }\\n    </style>\\n   </meta>\\n  </link>\\n </head>\\n <body class=\"\" data-jupyter-api-token=\"5560f3164aed6d14635903540dceb8ce8d6acd8bfae305e8\" dir=\"ltr\">\\n  <noscript>\\n   <div id=\"noscript\">\\n    Jupyter Server requires JavaScript.\\n    <br/>\\n    Please enable it to proceed.\\n   </div>\\n  </noscript>\\n  <div aria-label=\"Top Menu\" id=\"header\" role=\"navigation\">\\n   <div class=\"container\" id=\"header-container\">\\n    <div class=\"nav navbar-brand\" id=\"jupyter_server\">\\n     <a href=\"/lab?token=5560f3164aed6d14635903540dceb8ce8d6acd8bfae305e8\" title=\"dashboard\">\\n      <img alt=\"Jupyter Server\" src=\"/static/lab/logo/logo.png\"/>\\n     </a>\\n    </div>\\n   </div>\\n   <div class=\"header-bar\">\\n   </div>\\n  </div>\\n  <div id=\"site\">\\n   <div class=\"error\">\\n    <h1>\\n     405 : Method Not Allowed\\n    </h1>\\n   </div>\\n  </div>\\n  <script type=\"text/javascript\">\\n   function _remove_token_from_url() {\\n      if (window.location.search.length <= 1) {\\n        return;\\n      }\\n      var search_parameters = window.location.search.slice(1).split(\\'&\\');\\n      for (var i = 0; i < search_parameters.length; i++) {\\n        if (search_parameters[i].split(\\'=\\')[0] === \\'token\\') {\\n          // remote token from search parameters\\n          search_parameters.splice(i, 1);\\n          var new_search = \\'\\';\\n          if (search_parameters.length) {\\n            new_search = \\'?\\' + search_parameters.join(\\'&\\');\\n          }\\n          var new_url = window.location.origin +\\n            window.location.pathname +\\n            new_search +\\n            window.location.hash;\\n          window.history.replaceState({}, \"\", new_url);\\n          return;\\n        }\\n      }\\n    }\\n    _remove_token_from_url();\\n  </script>\\n </body>\\n</html>'"
      ]
     },
     "execution_count": 18,
     "metadata": {},
     "output_type": "execute_result"
    }
   ],
   "source": [
    "soup.prettify()"
   ]
  },
  {
   "cell_type": "code",
   "execution_count": null,
   "id": "b6ea15a5-9698-4b35-891e-c48e1ef5ae2f",
   "metadata": {},
   "outputs": [],
   "source": []
  }
 ],
 "metadata": {
  "kernelspec": {
   "display_name": "Python 3 (ipykernel)",
   "language": "python",
   "name": "python3"
  },
  "language_info": {
   "codemirror_mode": {
    "name": "ipython",
    "version": 3
   },
   "file_extension": ".py",
   "mimetype": "text/x-python",
   "name": "python",
   "nbconvert_exporter": "python",
   "pygments_lexer": "ipython3",
   "version": "3.10.6"
  }
 },
 "nbformat": 4,
 "nbformat_minor": 5
}
