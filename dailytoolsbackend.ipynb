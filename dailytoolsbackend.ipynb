{
 "cells": [
  {
   "cell_type": "code",
   "execution_count": 2,
   "id": "4b03b196-8d24-4b2c-ad84-aacc86a3e614",
   "metadata": {},
   "outputs": [],
   "source": [
    "import urllib"
   ]
  },
  {
   "cell_type": "code",
   "execution_count": 14,
   "id": "eae5513d-e091-4074-b31c-666a58a31ea0",
   "metadata": {},
   "outputs": [],
   "source": [
    "a = urllib.parse.urlparse('http://localhost:8888/lab')"
   ]
  },
  {
   "cell_type": "code",
   "execution_count": 10,
   "id": "f792b67d-8d9c-4ed4-9a15-a1ec92a3c168",
   "metadata": {},
   "outputs": [
    {
     "data": {
      "text/plain": [
       "urllib.parse.ParseResult"
      ]
     },
     "execution_count": 10,
     "metadata": {},
     "output_type": "execute_result"
    }
   ],
   "source": [
    "type(a)"
   ]
  },
  {
   "cell_type": "code",
   "execution_count": 20,
   "id": "a045947a-6b06-4e35-afe6-1c31386f8663",
   "metadata": {},
   "outputs": [
    {
     "data": {
      "text/plain": [
       "'lab'"
      ]
     },
     "execution_count": 20,
     "metadata": {},
     "output_type": "execute_result"
    }
   ],
   "source": [
    "a.path[1:]"
   ]
  },
  {
   "cell_type": "code",
   "execution_count": null,
   "id": "657e3d79-e6cb-48ce-a4b8-78d155b29a57",
   "metadata": {},
   "outputs": [],
   "source": []
  }
 ],
 "metadata": {
  "kernelspec": {
   "display_name": "Python 3 (ipykernel)",
   "language": "python",
   "name": "python3"
  },
  "language_info": {
   "codemirror_mode": {
    "name": "ipython",
    "version": 3
   },
   "file_extension": ".py",
   "mimetype": "text/x-python",
   "name": "python",
   "nbconvert_exporter": "python",
   "pygments_lexer": "ipython3",
   "version": "3.10.6"
  }
 },
 "nbformat": 4,
 "nbformat_minor": 5
}
